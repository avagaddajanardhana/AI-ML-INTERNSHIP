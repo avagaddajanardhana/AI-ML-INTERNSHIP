{
  "nbformat": 4,
  "nbformat_minor": 0,
  "metadata": {
    "colab": {
      "provenance": [],
      "authorship_tag": "ABX9TyOdqVfNOsZnxTljMA2JcM1y",
      "include_colab_link": true
    },
    "kernelspec": {
      "name": "python3",
      "display_name": "Python 3"
    },
    "language_info": {
      "name": "python"
    }
  },
  "cells": [
    {
      "cell_type": "markdown",
      "metadata": {
        "id": "view-in-github",
        "colab_type": "text"
      },
      "source": [
        "<a href=\"https://colab.research.google.com/github/avagaddajanardhana/AI-ML-INTERNSHIP/blob/main/Assignment_1.ipynb\" target=\"_parent\"><img src=\"https://colab.research.google.com/assets/colab-badge.svg\" alt=\"Open In Colab\"/></a>"
      ]
    },
    {
      "cell_type": "code",
      "execution_count": null,
      "metadata": {
        "colab": {
          "base_uri": "https://localhost:8080/"
        },
        "id": "ilVd9kf66-HF",
        "outputId": "4aef655a-e2c8-4514-e1b7-d20217dd50ee"
      },
      "outputs": [
        {
          "output_type": "execute_result",
          "data": {
            "text/plain": [
              "[1, 2, 3, 4, 2, 4, 6, 8]"
            ]
          },
          "metadata": {},
          "execution_count": 1
        }
      ],
      "source": [
        "# TASK 1 :-\n",
        "\n",
        "a=[1,2,3,4]\n",
        "b=[2,4,6,8]\n",
        "\n",
        "a+b"
      ]
    },
    {
      "cell_type": "code",
      "source": [
        "# TASK 2 :-\n",
        "\n",
        "num = int(input(\"ENTER YOUR NUMBER :\"))\n",
        "if(num%2) == 0:\n",
        "  print(\"Given no is an Even\".format(num))\n",
        "else:\n",
        "    print(\"Given no is an Odd\".format(num))"
      ],
      "metadata": {
        "colab": {
          "base_uri": "https://localhost:8080/"
        },
        "id": "3DsH3qKu7diC",
        "outputId": "a2a68b5d-8d53-4bda-b74f-c7701dc1c864"
      },
      "execution_count": null,
      "outputs": [
        {
          "output_type": "stream",
          "name": "stdout",
          "text": [
            "ENTER YOUR NUMBER :7\n",
            "Given no is an Odd\n"
          ]
        }
      ]
    },
    {
      "cell_type": "code",
      "source": [
        "# TASK 3 :-\n",
        "\n",
        "d1 = {'S.No':[1,2,3,4,5,6],'NAME':['janardhana','david','santhosh','sai','naresh','pardhu',],'ROLL_NO':[7,11,9,16,67,59]}\n",
        "d1"
      ],
      "metadata": {
        "colab": {
          "base_uri": "https://localhost:8080/"
        },
        "id": "rzUNqJ067im6",
        "outputId": "07198993-6bcb-4648-b1d7-39147b51f6cb"
      },
      "execution_count": null,
      "outputs": [
        {
          "output_type": "execute_result",
          "data": {
            "text/plain": [
              "{'S.No': [1, 2, 3, 4, 5, 6],\n",
              " 'NAME': ['janardhana', 'david', 'santhosh', 'sai', 'naresh', 'pardhu'],\n",
              " 'ROLL_NO': [7, 11, 9, 16, 67, 59]}"
            ]
          },
          "metadata": {},
          "execution_count": 3
        }
      ]
    },
    {
      "cell_type": "code",
      "source": [
        "# TASK 4 :-\n",
        "\n",
        "num=int(input(\"Enter a number to check odd or even: \"))\n",
        "\n",
        "def To_find_Evenorodd(num):\n",
        "\n",
        "    if(num%2==0):\n",
        "        print(\"Given no\",num,\"is an Even\")\n",
        "    else:\n",
        "        print(\"Given no\",num,\"is an Odd\")\n",
        "\n",
        "To_find_Evenorodd(num);\n"
      ],
      "metadata": {
        "colab": {
          "base_uri": "https://localhost:8080/"
        },
        "id": "LTfjb3dZ7vKT",
        "outputId": "6f490e0c-6fdc-4c58-9c8d-7fb6b1adc41c"
      },
      "execution_count": null,
      "outputs": [
        {
          "output_type": "stream",
          "name": "stdout",
          "text": [
            "Enter a number to check odd or even: 5\n",
            "Given no 5 is an Odd\n"
          ]
        }
      ]
    },
    {
      "cell_type": "code",
      "source": [
        "# TASK 5 :-\n",
        "\n",
        "def sum_of_num(num):\n",
        "    total=0\n",
        "    for i in num:\n",
        "        total = total+i\n",
        "    return total\n",
        "\n",
        "num = [1, 8, 3, 7, 6]\n",
        "print(num)\n",
        "print(\"sum of numbers: \",sum_of_num(num))"
      ],
      "metadata": {
        "colab": {
          "base_uri": "https://localhost:8080/"
        },
        "id": "6u6ELyED73_A",
        "outputId": "f95ad9c3-36dc-48cd-b6a0-9fbbf5fe943d"
      },
      "execution_count": null,
      "outputs": [
        {
          "output_type": "stream",
          "name": "stdout",
          "text": [
            "[1, 8, 3, 7, 6]\n",
            "sum of numbers:  25\n"
          ]
        }
      ]
    }
  ]
}